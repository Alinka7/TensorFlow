{
  "nbformat": 4,
  "nbformat_minor": 0,
  "metadata": {
    "colab": {
      "name": "first_lesson.ipynb",
      "provenance": []
    },
    "kernelspec": {
      "name": "python3",
      "display_name": "Python 3"
    }
  },
  "cells": [
    {
      "cell_type": "code",
      "metadata": {
        "id": "WXhN0l8n3qHg"
      },
      "source": [
        "import tensorflow as tf\n",
        "import numpy as np"
      ],
      "execution_count": null,
      "outputs": []
    },
    {
      "cell_type": "code",
      "metadata": {
        "id": "e2_3KIND3vDg"
      },
      "source": [
        "hello = tf.constant(\"hello\")"
      ],
      "execution_count": null,
      "outputs": []
    },
    {
      "cell_type": "code",
      "metadata": {
        "id": "7h8H_y-53vMS",
        "outputId": "01f30a54-a328-4281-d69b-bb9383ad0fba",
        "colab": {
          "base_uri": "https://localhost:8080/",
          "height": 34
        }
      },
      "source": [
        "print(hello)"
      ],
      "execution_count": null,
      "outputs": [
        {
          "output_type": "stream",
          "text": [
            "tf.Tensor(b'hello', shape=(), dtype=string)\n"
          ],
          "name": "stdout"
        }
      ]
    },
    {
      "cell_type": "code",
      "metadata": {
        "id": "flBMBmIR3vPa",
        "outputId": "fad178d5-2971-44ea-ce6c-9d8cea904b24",
        "colab": {
          "base_uri": "https://localhost:8080/",
          "height": 34
        }
      },
      "source": [
        "tensor_1d = np.array([1.3, 1.5, 3.5, 6.2])\n",
        "print(tensor_1d)"
      ],
      "execution_count": null,
      "outputs": [
        {
          "output_type": "stream",
          "text": [
            "[1.3 1.5 3.5 6.2]\n"
          ],
          "name": "stdout"
        }
      ]
    },
    {
      "cell_type": "code",
      "metadata": {
        "id": "XHF2FS4c3vSD",
        "outputId": "2f97d29c-ef30-452d-cd2c-6c62d4d2b4be",
        "colab": {
          "base_uri": "https://localhost:8080/",
          "height": 34
        }
      },
      "source": [
        "print(tensor_1d[3])"
      ],
      "execution_count": null,
      "outputs": [
        {
          "output_type": "stream",
          "text": [
            "6.2\n"
          ],
          "name": "stdout"
        }
      ]
    },
    {
      "cell_type": "code",
      "metadata": {
        "id": "b_OFIY-B-ZMd",
        "outputId": "60262434-eea1-4c92-9fc7-2e71a3497113",
        "colab": {
          "base_uri": "https://localhost:8080/",
          "height": 84
        }
      },
      "source": [
        "tensor_2d = np.array([(1.3, 1.5, 3.5, 6.2),(5.3, 1.9, 7.5, 6.0), (4.5, 2.4, 3.0, 5.4), (2.3, 6.8, 1.4, 6.8)])\n",
        "print(tensor_2d)"
      ],
      "execution_count": null,
      "outputs": [
        {
          "output_type": "stream",
          "text": [
            "[[1.3 1.5 3.5 6.2]\n",
            " [5.3 1.9 7.5 6. ]\n",
            " [4.5 2.4 3.  5.4]\n",
            " [2.3 6.8 1.4 6.8]]\n"
          ],
          "name": "stdout"
        }
      ]
    },
    {
      "cell_type": "code",
      "metadata": {
        "id": "PWt9WXJ4-ZUE",
        "outputId": "cce5bf02-7243-436d-8f44-736cc1078de5",
        "colab": {
          "base_uri": "https://localhost:8080/",
          "height": 34
        }
      },
      "source": [
        "print(tensor_2d[3][1])"
      ],
      "execution_count": null,
      "outputs": [
        {
          "output_type": "stream",
          "text": [
            "6.8\n"
          ],
          "name": "stdout"
        }
      ]
    },
    {
      "cell_type": "code",
      "metadata": {
        "id": "StOyH4P3-ZWc",
        "outputId": "1cf08345-0353-4d71-b47c-9779e85f56b4",
        "colab": {
          "base_uri": "https://localhost:8080/",
          "height": 118
        }
      },
      "source": [
        "matrix1 = np.array([(3, 5, 2),(1, 6, 3),(2, 7, 5)])\n",
        "matrix2 = np.array([(2, 4, 1),(1, 2, 3),(3, 4, 3)])\n",
        "print(matrix1)\n",
        "print(matrix2)"
      ],
      "execution_count": null,
      "outputs": [
        {
          "output_type": "stream",
          "text": [
            "[[3 5 2]\n",
            " [1 6 3]\n",
            " [2 7 5]]\n",
            "[[2 4 1]\n",
            " [1 2 3]\n",
            " [3 4 3]]\n"
          ],
          "name": "stdout"
        }
      ]
    },
    {
      "cell_type": "code",
      "metadata": {
        "id": "gqxTlWDK-Zds",
        "outputId": "e2a3c861-e0b7-4d43-85cd-02ee29743659",
        "colab": {
          "base_uri": "https://localhost:8080/",
          "height": 84
        }
      },
      "source": [
        "sum = tf.add(matrix1, matrix2)\n",
        "print(sum)"
      ],
      "execution_count": null,
      "outputs": [
        {
          "output_type": "stream",
          "text": [
            "tf.Tensor(\n",
            "[[ 5  9  3]\n",
            " [ 2  8  6]\n",
            " [ 5 11  8]], shape=(3, 3), dtype=int64)\n"
          ],
          "name": "stdout"
        }
      ]
    },
    {
      "cell_type": "code",
      "metadata": {
        "id": "cVYM5RNy-ZgO",
        "outputId": "874bdf72-0c86-4cb0-9f50-08b612c54953",
        "colab": {
          "base_uri": "https://localhost:8080/",
          "height": 84
        }
      },
      "source": [
        "subtract = tf.subtract(matrix1, matrix2)\n",
        "print(subtract)"
      ],
      "execution_count": null,
      "outputs": [
        {
          "output_type": "stream",
          "text": [
            "tf.Tensor(\n",
            "[[ 1  1  1]\n",
            " [ 0  4  0]\n",
            " [-1  3  2]], shape=(3, 3), dtype=int64)\n"
          ],
          "name": "stdout"
        }
      ]
    },
    {
      "cell_type": "code",
      "metadata": {
        "id": "jMVoKLeo3vVB",
        "outputId": "0a772eac-576d-4cb1-bea7-b77690e265c9",
        "colab": {
          "base_uri": "https://localhost:8080/",
          "height": 84
        }
      },
      "source": [
        "product = tf.matmul(matrix1, matrix2)\n",
        "print(product)"
      ],
      "execution_count": null,
      "outputs": [
        {
          "output_type": "stream",
          "text": [
            "tf.Tensor(\n",
            "[[17 30 24]\n",
            " [17 28 28]\n",
            " [26 42 38]], shape=(3, 3), dtype=int64)\n"
          ],
          "name": "stdout"
        }
      ]
    }
  ]
}